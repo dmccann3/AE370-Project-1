{
 "cells": [
  {
   "cell_type": "markdown",
   "id": "dying-employer",
   "metadata": {},
   "source": [
    "IDK I think the calculations are set up right. Can't figure out how to store data. Haven't started on plotting"
   ]
  },
  {
   "cell_type": "code",
   "execution_count": null,
   "id": "burning-digest",
   "metadata": {},
   "outputs": [],
   "source": [
    "import numpy as np\n",
    "import matplotlib as plt\n",
    "import sympy as sym\n",
    "import time"
   ]
  },
  {
   "cell_type": "code",
   "execution_count": null,
   "id": "cloudy-first",
   "metadata": {},
   "outputs": [],
   "source": [
    "# Initial conditions\n",
    "            #Sun,     Mercury,  Venus,   Earth,     Mars\n",
    "m=np.array([1.989e30, 3.301e23, 4.867e24, 5.972e24, 6.416e23])\n",
    "#planning on putting them in as r1Sun, r2Sun, r3Sun, r1Mercury, r2Mercury, ...\n",
    "r0=np.array([[1.488362210307169e08,9.620324880334983E+06, -5.255394557649735E+03, 1.678389139531513E+08, -5.487930071859051E+07, -7.019067508028671E+06, \n",
    "             2.572200457359130E+08, 1.451940253143420E+07, -6.192352484012793E+06, -4.302193936021114E+03, -1.877967239446550E+02, -4.692855022729771E+03,\n",
    "             7.965362364646178E+07, 2.399271107133712E+08, 6.518142005638048E+06]])\n",
    "v0=np.array([[-1.568066170464217E+00, 2.954349411254195E+01, 1.239561377489533E-01, 3.539406830660734E+01, 4.578814212328850E+01, -1.939145575756971E+00,\n",
    "            -3.293543379518804E+00, 6.436748966157057E+01, 7.014382663146321E-01, -1.235613151587412E-01, -2.871365413971080E-01, 1.247658493104958E-01,\n",
    "            -2.385715061733950E+01, 2.463001420859507E+01, 5.677543388060684E-01]])"
   ]
  },
  {
   "cell_type": "code",
   "execution_count": null,
   "id": "saving-jesus",
   "metadata": {},
   "outputs": [],
   "source": [
    "N=5"
   ]
  },
  {
   "cell_type": "code",
   "execution_count": null,
   "id": "instructional-residence",
   "metadata": {},
   "outputs": [],
   "source": [
    "def func(u, n, b):\n",
    "    f=np.zeros((2,3))\n",
    "    f[0,0]=u[1,0]\n",
    "    f[0,1]=u[1,1]\n",
    "    f[0,2]=u[1,2]\n",
    "    for i in range(N):\n",
    "        if i==n:\n",
    "            continue\n",
    "        else:\n",
    "            dist=(np.linalg.norm(u[0,:]-b[2*i, :]))**3\n",
    "            f[1,0]=f[1,0]+m[i]*(u[0, 0]-b[2*i,0])/dist\n",
    "            f[1,1]=f[1,1]+m[i]*(u[0, 1]-b[2*i, 1])/dist\n",
    "            f[1,2]=f[1,2]+m[i]*(u[0, 2]-b[2*i, 2])/dist\n",
    "    return f"
   ]
  },
  {
   "cell_type": "code",
   "execution_count": null,
   "id": "living-victor",
   "metadata": {},
   "outputs": [],
   "source": [
    "T=168*3600\n",
    "dt=12*3600"
   ]
  },
  {
   "cell_type": "code",
   "execution_count": null,
   "id": "excessive-hardware",
   "metadata": {},
   "outputs": [],
   "source": [
    "r_keep=np.zeros((int(T/dt), 3*N))\n",
    "v_keep=np.zeros((int(T/dt), 3*N))\n",
    "\n",
    "#Initialize first \n",
    "tk=0\n",
    "step=0\n",
    "u_big=np.vstack([r0[0, 0:3], v0[0, 0:3],r0[0, 3:6], v0[0, 3:6],r0[0, 6:9], v0[0, 6:9],r0[0, 9:12], v0[0, 9:12],r0[0, 12:15], v0[0, 12:15]])\n",
    "r_keep[0,:]=r0\n",
    "v_keep[0,:]=v0\n",
    "for j in range(int(T/dt)):\n",
    "    u_bigp1=np.zeros((10,3))\n",
    "    #RK4\n",
    "    for i in range(N):\n",
    "        u_k=u_big[2*i:2*(i+1), :]\n",
    "        y1=func(u_k, i, u_big)\n",
    "        y2=func(u_k+dt/2*y1, i, u_big)\n",
    "        y3=func(u_k+dt/2*y2, i, u_big)\n",
    "        y4=func(u_k+dt*y3, i, u_big)\n",
    "        u_kp1=u_k+dt/6*(y1+2*y2+2*y3+y4)\n",
    "        u_bigp1[2*i:2*(i+1), :]=u_kp1\n",
    "\n",
    "        \n",
    "    #Update iterate\n",
    "    u_big=u_bigp1\n",
    "    print(u_big)\n",
    "    uk=tk+dt\n",
    "    step=step+1\n",
    "    for i in range(N):\n",
    "        r_keep[step, 3*i:3*i+3]=u_big[2*i,:]\n",
    "        v_keep[step, i:3*i+1]=u_big[2*i+1,:]"
   ]
  },
  {
   "cell_type": "code",
   "execution_count": null,
   "id": "suitable-education",
   "metadata": {},
   "outputs": [],
   "source": []
  }
 ],
 "metadata": {
  "kernelspec": {
   "display_name": "Python (ae353-bullet)",
   "language": "python",
   "name": "ae353-bullet"
  },
  "language_info": {
   "codemirror_mode": {
    "name": "ipython",
    "version": 3
   },
   "file_extension": ".py",
   "mimetype": "text/x-python",
   "name": "python",
   "nbconvert_exporter": "python",
   "pygments_lexer": "ipython3",
   "version": "3.9.2"
  }
 },
 "nbformat": 4,
 "nbformat_minor": 5
}
