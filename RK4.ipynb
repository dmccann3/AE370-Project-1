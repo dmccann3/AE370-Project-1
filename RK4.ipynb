{
 "cells": [
  {
   "cell_type": "markdown",
   "id": "dying-employer",
   "metadata": {},
   "source": [
    "IDK "
   ]
  },
  {
   "cell_type": "code",
   "execution_count": null,
   "id": "burning-digest",
   "metadata": {},
   "outputs": [],
   "source": [
    "import numpy as np\n",
    "import matplotlib as plt\n",
    "import sympy as sym\n",
    "import time"
   ]
  },
  {
   "cell_type": "code",
   "execution_count": null,
   "id": "cloudy-first",
   "metadata": {},
   "outputs": [],
   "source": [
    "# Initial conditions\n",
    "            #Sun,     Mercury,  Venus,   Earth,     Mars\n",
    "m=np.array([1.989e30, 3.301e23, 4.867e24, 5.972e24, 6.416e23])\n",
    "#planning on putting them in as r1Sun, r2Sun, r3Sun, r1Mercury, r2Mercury, ...\n",
    "r0=np.array([])\n",
    "v0=np.array([])"
   ]
  },
  {
   "cell_type": "code",
   "execution_count": null,
   "id": "saving-jesus",
   "metadata": {},
   "outputs": [],
   "source": [
    "N=5"
   ]
  },
  {
   "cell_type": "code",
   "execution_count": null,
   "id": "instructional-residence",
   "metadata": {},
   "outputs": [],
   "source": [
    "def f(u, n, b):\n",
    "    f[0]=u[1,0]\n",
    "    f[1]=u[1,1]\n",
    "    f[2]=u[1,2]\n",
    "    f[3]=0\n",
    "    f[4]=0\n",
    "    f[5]=0\n",
    "    for i in range(N):\n",
    "        if i==n:\n",
    "            continue\n",
    "        else:\n",
    "            dist=(np.linalg.norm(u[0,:]-b[3*i, :]))**3\n",
    "            f[3]=f[3]+m[i]*(u[0, 0]-b[3*i,0])/dist\n",
    "            f[4]=f[4]+m[i]*(u[0, 1]-b[3*i, 1])/dist\n",
    "            f[5]=f[5]+m[i]*(u[0, 2]-b[3*i, 2])/dist\n",
    "    return f"
   ]
  },
  {
   "cell_type": "code",
   "execution_count": null,
   "id": "living-victor",
   "metadata": {},
   "outputs": [],
   "source": [
    "T=168*3600\n",
    "dt=12*3600"
   ]
  },
  {
   "cell_type": "code",
   "execution_count": null,
   "id": "excessive-hardware",
   "metadata": {},
   "outputs": [],
   "source": [
    "r_keep=np.zeros((int(T/dt), 3*N))\n",
    "v_keep=np.zeros((int(T/dt), 3*N))\n",
    "\n",
    "#Initialize first \n",
    "tk=0\n",
    "step=0\n",
    "u_big=np.vstack(r0[0, 0:2], v0[0, 0:2],r0[0, 3:5], v0[0, 3:5],r0[0, 6:8], v0[0, 6:8],r0[0, 9:11], v0[0, 9:11],r0[0, 12:14], v0[0, 12:14])\n",
    "r_keep[0,:]=r0\n",
    "v_keep[0,:]=v0\n",
    "for j in range(int(T/dt)):\n",
    "    #RK4\n",
    "    for i in range(N):\n",
    "        u_k=u_big[2*i:2*i+1, :]\n",
    "        y1=f(u_k, i, u_big)\n",
    "        y2=f(u_k+dt/2*y1, i, u_big)\n",
    "        y3=f(u_k+dt/2*y2, i, u_big)\n",
    "        y4=f(u_k+dt*y3, i, u_big)\n",
    "        u_kp1=u_k+dt/6*(y1+2*y2+2*y3+y4)\n",
    "        u_bigp1[2*i:2*i+1, :]=u_kp1\n",
    "\n",
    "        \n",
    "    #Update iterate\n",
    "    u_big=u_bigp1\n",
    "    uk=tk+dt\n",
    "    step=step+1\n",
    "    r_keep[step, :]=u_big[0,:]\n",
    "    v_keep[step, :]=u_big[1,:]"
   ]
  }
 ],
 "metadata": {
  "kernelspec": {
   "display_name": "Python (ae353-bullet)",
   "language": "python",
   "name": "ae353-bullet"
  },
  "language_info": {
   "codemirror_mode": {
    "name": "ipython",
    "version": 3
   },
   "file_extension": ".py",
   "mimetype": "text/x-python",
   "name": "python",
   "nbconvert_exporter": "python",
   "pygments_lexer": "ipython3",
   "version": "3.9.2"
  }
 },
 "nbformat": 4,
 "nbformat_minor": 5
}
